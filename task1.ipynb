{
 "cells": [
  {
   "cell_type": "code",
   "execution_count": 23,
   "id": "05f739db-213e-4e89-b70e-40024424f64e",
   "metadata": {},
   "outputs": [
    {
     "name": "stdin",
     "output_type": "stream",
     "text": [
      "enter the value 2,3\n"
     ]
    },
    {
     "name": "stdout",
     "output_type": "stream",
     "text": [
      "5\n"
     ]
    }
   ],
   "source": [
    "#The sum of Two numbers\n",
    "a,b=map(int,input('enter the value').split(','))\n",
    "c=a+b\n",
    "print(c)"
   ]
  },
  {
   "cell_type": "code",
   "execution_count": 6,
   "id": "c5b673e0-dd2f-42bb-9476-ce108195371e",
   "metadata": {},
   "outputs": [
    {
     "name": "stdin",
     "output_type": "stream",
     "text": [
      "enter the value 4\n"
     ]
    },
    {
     "name": "stdout",
     "output_type": "stream",
     "text": [
      "a is even\n"
     ]
    }
   ],
   "source": [
    "#even and odd\n",
    "a = int(input(\"enter the value\"))\n",
    "if a%2==0:\n",
    "    print('a is even')\n",
    "else:\n",
    "    print('a is odd')\n",
    "    "
   ]
  },
  {
   "cell_type": "code",
   "execution_count": 9,
   "id": "13044b5c-7bc2-4a8a-8990-a2241c285712",
   "metadata": {},
   "outputs": [
    {
     "name": "stdin",
     "output_type": "stream",
     "text": [
      "enter the value 5\n"
     ]
    },
    {
     "name": "stdout",
     "output_type": "stream",
     "text": [
      "The Factorial of 5 using math factorial is 120\n"
     ]
    }
   ],
   "source": [
    "#factorial calculation\n",
    "import math\n",
    "n=int(input('enter the value'))\n",
    "print(f'The Factorial of {n} using math factorial is {math.factorial(n)}')"
   ]
  },
  {
   "cell_type": "code",
   "execution_count": 10,
   "id": "f6925b21-dbcd-4eac-8b5d-685a24e31828",
   "metadata": {},
   "outputs": [
    {
     "name": "stdin",
     "output_type": "stream",
     "text": [
      "Enter the number of Fibonacci numbers to generate:  5\n"
     ]
    },
    {
     "name": "stdout",
     "output_type": "stream",
     "text": [
      "The first 5 numbers in the Fibonacci sequence are: [0, 1, 1, 2, 3]\n"
     ]
    }
   ],
   "source": [
    "#Fibonacci series\n",
    "def fibonacci_sequence(n):\n",
    "    fib_sequence = [0, 1]\n",
    "    for i in range(2, n):\n",
    "        next_fib = fib_sequence[-1] + fib_sequence[-2]\n",
    "        fib_sequence.append(next_fib)\n",
    "    return fib_sequence[:n]\n",
    "n = int(input('Enter the number of Fibonacci numbers to generate: '))\n",
    "print(f'The first {n} numbers in the Fibonacci sequence are: {fibonacci_sequence(n)}')\n"
   ]
  },
  {
   "cell_type": "code",
   "execution_count": 11,
   "id": "cf453e20-fe31-4763-b2fa-fda879654ba2",
   "metadata": {},
   "outputs": [
    {
     "name": "stdin",
     "output_type": "stream",
     "text": [
      "enter then string hello\n"
     ]
    },
    {
     "name": "stdout",
     "output_type": "stream",
     "text": [
      "The given string is\"hello\" and the reversed string is \"olleh\"\n"
     ]
    }
   ],
   "source": [
    "#reversing a string\n",
    "str=input(\"enter then string\")\n",
    "reverse_string=str[::-1]\n",
    "print(f'The given string is\"{str}\" and the reversed string is \"{reverse_string}\"')"
   ]
  },
  {
   "cell_type": "code",
   "execution_count": 13,
   "id": "7799ecac-055f-4c60-9ed5-7e1e1b1819b7",
   "metadata": {},
   "outputs": [
    {
     "name": "stdin",
     "output_type": "stream",
     "text": [
      "Enter a string:  11011\n"
     ]
    },
    {
     "name": "stdout",
     "output_type": "stream",
     "text": [
      "Is the string \"11011\" a palindrome? True\n"
     ]
    }
   ],
   "source": [
    "#Palindrome check\n",
    "def is_palindrome(s):\n",
    "    cleaned_string = ''.join(s.split()).lower()\n",
    "    return cleaned_string == cleaned_string[::-1]\n",
    "s = input('Enter a string: ')\n",
    "print(f'Is the string \"{s}\" a palindrome? {is_palindrome(s)}')"
   ]
  },
  {
   "cell_type": "code",
   "execution_count": 14,
   "id": "bc0368b9-2f93-4204-bc3d-89b310461763",
   "metadata": {},
   "outputs": [
    {
     "name": "stdin",
     "output_type": "stream",
     "text": [
      "Enter a year:  2024\n"
     ]
    },
    {
     "name": "stdout",
     "output_type": "stream",
     "text": [
      "The year 2024 a leap year? True\n"
     ]
    }
   ],
   "source": [
    "#Leap year\n",
    "def is_leap_year(year):\n",
    "    if year % 4 == 0:\n",
    "        if year % 100 == 0:\n",
    "            if year % 400 == 0:\n",
    "                return True\n",
    "            else:\n",
    "                return False\n",
    "        else:\n",
    "            return True\n",
    "    else:\n",
    "        return False\n",
    "year = int(input('Enter a year: '))\n",
    "print(f'The year {year} a leap year? {is_leap_year(year)}')"
   ]
  },
  {
   "cell_type": "code",
   "execution_count": 20,
   "id": "69b59510-9463-4ea0-aced-63f5ce7ea472",
   "metadata": {},
   "outputs": [
    {
     "name": "stdout",
     "output_type": "stream",
     "text": [
      "True\n"
     ]
    }
   ],
   "source": [
    "#Armstrong number\n",
    "def is_armstrong_number(n):\n",
    "    digits = str(n)\n",
    "    num_digits = len(digits)\n",
    "    armstrong_sum = sum(int(digit) ** num_digits for digit in digits)\n",
    "    return armstrong_sum == n\n",
    "print(is_armstrong_number(153))  # True\n"
   ]
  },
  {
   "cell_type": "code",
   "execution_count": 21,
   "id": "38c75a7d-f13c-4870-97fd-b205adeaac4e",
   "metadata": {},
   "outputs": [
    {
     "name": "stdin",
     "output_type": "stream",
     "text": [
      "Enter the message to encrypt:  hello world!\n"
     ]
    },
    {
     "name": "stdout",
     "output_type": "stream",
     "text": [
      "Encrypted Message: mjqqteBtwqi&\n",
      "Decrypted Message: hello world!\n"
     ]
    }
   ],
   "source": [
    "#Custom Encryption-Decryption System\n",
    "import string\n",
    "\n",
    "class CustomCipher:\n",
    "    def __init__(self, shift=3):\n",
    "        self.shift = shift\n",
    "        self.alphabet = string.ascii_letters + string.digits + string.punctuation + \" \"\n",
    "        self.cipher_map = self.create_cipher_map(shift)\n",
    "        self.reverse_map = {v: k for k, v in self.cipher_map.items()}\n",
    "\n",
    "    def create_cipher_map(self, shift):\n",
    "        \"\"\"Creates a mapping for encryption and decryption.\"\"\"\n",
    "        length = len(self.alphabet)\n",
    "        return {\n",
    "            self.alphabet[i]: self.alphabet[(i + shift) % length]\n",
    "            for i in range(length)\n",
    "        }\n",
    "\n",
    "    def encrypt(self, plaintext):\n",
    "        \"\"\"Encrypts the plaintext using the cipher map.\"\"\"\n",
    "        return ''.join(self.cipher_map[char] for char in plaintext if char in self.cipher_map)\n",
    "    def decrypt(self, ciphertext):\n",
    "        \"\"\"Decrypts the ciphertext using the reverse map.\"\"\"\n",
    "        return ''.join(self.reverse_map[char] for char in ciphertext if char in self.reverse_map)\n",
    "if __name__ == \"__main__\":\n",
    "    cipher = CustomCipher(shift=5)\n",
    "    message = input(\"Enter the message to encrypt: \")\n",
    "    encrypted_message = cipher.encrypt(message)\n",
    "    print(f\"Encrypted Message: {encrypted_message}\")\n",
    "    decrypted_message = cipher.decrypt(encrypted_message)\n",
    "    print(f\"Decrypted Message: {decrypted_message}\")\n"
   ]
  },
  {
   "cell_type": "code",
   "execution_count": null,
   "id": "5e2d238f-835f-4da7-b06b-12e706c7e3b9",
   "metadata": {},
   "outputs": [],
   "source": []
  }
 ],
 "metadata": {
  "kernelspec": {
   "display_name": "Python 3 (ipykernel)",
   "language": "python",
   "name": "python3"
  },
  "language_info": {
   "codemirror_mode": {
    "name": "ipython",
    "version": 3
   },
   "file_extension": ".py",
   "mimetype": "text/x-python",
   "name": "python",
   "nbconvert_exporter": "python",
   "pygments_lexer": "ipython3",
   "version": "3.12.7"
  }
 },
 "nbformat": 4,
 "nbformat_minor": 5
}
